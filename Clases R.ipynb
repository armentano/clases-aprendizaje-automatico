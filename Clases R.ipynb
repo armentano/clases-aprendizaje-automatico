{
 "cells": [
  {
   "cell_type": "code",
   "execution_count": 12,
   "metadata": {
    "collapsed": false
   },
   "outputs": [
    {
     "name": "stderr",
     "output_type": "stream",
     "text": [
      "Installing package into ‘/home/matias/R’\n",
      "(as ‘lib’ is unspecified)\n",
      "also installing the dependencies ‘mnormt’, ‘psych’, ‘broom’, ‘modelr’\n",
      "\n"
     ]
    }
   ],
   "source": [
    "install.packages('tidyverse')"
   ]
  },
  {
   "cell_type": "code",
   "execution_count": 13,
   "metadata": {
    "collapsed": false
   },
   "outputs": [
    {
     "name": "stderr",
     "output_type": "stream",
     "text": [
      "Loading tidyverse: ggplot2\n",
      "Loading tidyverse: tibble\n",
      "Loading tidyverse: tidyr\n",
      "Loading tidyverse: readr\n",
      "Loading tidyverse: purrr\n",
      "Loading tidyverse: dplyr\n",
      "Conflicts with tidy packages ---------------------------------------------------\n",
      "filter(): dplyr, stats\n",
      "lag():    dplyr, stats\n"
     ]
    }
   ],
   "source": [
    "library(tidyverse)"
   ]
  },
  {
   "cell_type": "markdown",
   "metadata": {},
   "source": [
    "### Árboles de decisión\n",
    "\n"
   ]
  },
  {
   "cell_type": "markdown",
   "metadata": {},
   "source": [
    "### Recursos\n",
    "\n",
    "http://www.r-bloggers.com\n"
   ]
  },
  {
   "cell_type": "markdown",
   "metadata": {},
   "source": [
    "### Textos\n",
    "\n",
    "- [An Introduction to R](https://cran.r-project.org/doc/manuals/R-intro.pdf) — W. N. Venables, D. M. Smith, R Core Team.\n",
    "\n",
    "Más de programación, tiene modelos lineales.\n",
    "\n",
    "\n",
    "- [R for Data Science](http://r4ds.had.co.nz) — Garrett Grolemund, Hadley Wickham.\n",
    "\n",
    "Lo recomiendan en RStudio.\n",
    "\n",
    "\n",
    "- [Introduction to Probability and Statistics Using R](https://cran.r-project.org/web/packages/IPSUR/vignettes/IPSUR.pdf) — G. Jay Kerns.\n",
    "\n",
    "Mmm.\n",
    "\n",
    "\n",
    "- [Advanced R](http://adv-r.had.co.nz) — Hadley Wickham.\n",
    "\n",
    "Me sirvió la parte de estructuras de datos.\n",
    "\n",
    "\n",
    "- [Vectores atómicos](http://arrgh.tim-smith.us/atomic.html)\n",
    "\n",
    "Lectura obligada.\n",
    "\n",
    "\n",
    "- [An Introduction to Statistical Learning with Applications in R](http://www-bcf.usc.edu/~gareth/ISL) — Gareth James, Daniela Witten, Trevor Hastie and Robert Tibshirani.\n",
    "\n",
    "Es el que usé para aprendizaje automático. Está el **Elements of Statistical Learning** que es más avanzado.\n",
    "\n",
    "\n",
    "- [Advanced Data Analysis from an Elementary Point of View](http://www.stat.cmu.edu/~cshalizi/ADAfaEPoV) — Cosma Rohilla Shalizi.\n",
    "\n",
    "Cubre muchos tópicos avanzados, siendo exigente, desde un punto de vista elemental.\n",
    "\n",
    "\n",
    "- Más textos:\n",
    "  * https://r-dir.com/learn/e-books.html\n",
    "  * https://www.ossblog.org/grasp-r-programming-open-source-books\n",
    "  * http://freecomputerbooks.com/langRBooks.html"
   ]
  }
 ],
 "metadata": {
  "kernelspec": {
   "display_name": "R",
   "language": "R",
   "name": "ir"
  },
  "language_info": {
   "codemirror_mode": "r",
   "file_extension": ".r",
   "mimetype": "text/x-r-source",
   "name": "R",
   "pygments_lexer": "r",
   "version": "3.4.1"
  }
 },
 "nbformat": 4,
 "nbformat_minor": 2
}
