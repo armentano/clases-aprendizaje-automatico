{
 "cells": [
  {
   "cell_type": "markdown",
   "metadata": {},
   "source": [
    "Repositorio con las notas: https://github.com/matiasbattocchia/clases-aprendizaje-automatico"
   ]
  },
  {
   "cell_type": "code",
   "execution_count": 19,
   "metadata": {},
   "outputs": [
    {
     "name": "stderr",
     "output_type": "stream",
     "text": [
      "Warning message in install.packages(\"tidyverse\"):\n",
      "“'lib = \"/usr/lib/R/library\"' is not writable”"
     ]
    },
    {
     "ename": "ERROR",
     "evalue": "Error in install.packages(\"tidyverse\"): unable to install packages\n",
     "output_type": "error",
     "traceback": [
      "Error in install.packages(\"tidyverse\"): unable to install packages\nTraceback:\n",
      "1. install.packages(\"tidyverse\")",
      "2. stop(\"unable to install packages\")"
     ]
    }
   ],
   "source": [
    "#install.packages('tidyverse')\n",
    "library(tidyverse)"
   ]
  },
  {
   "cell_type": "markdown",
   "metadata": {},
   "source": [
    "Esto es para que se vean mejor los gráficos en Jupyter."
   ]
  },
  {
   "cell_type": "code",
   "execution_count": 24,
   "metadata": {},
   "outputs": [],
   "source": [
    "library(repr)\n",
    "\n",
    "# change plot size to 4 x 3\n",
    "options(repr.plot.width=4, repr.plot.height=4)"
   ]
  },
  {
   "cell_type": "markdown",
   "metadata": {},
   "source": [
    "### Flujo de trabajo\n",
    "\n",
    "Usamos el paquete [`caret`](https://topepo.github.io/caret/data-splitting.html) que implementa funciones utilitarias varias."
   ]
  },
  {
   "cell_type": "code",
   "execution_count": null,
   "metadata": {},
   "outputs": [],
   "source": [
    "#install.packages('caret')\n",
    "\n",
    "library(caret)"
   ]
  },
  {
   "cell_type": "code",
   "execution_count": 71,
   "metadata": {},
   "outputs": [
    {
     "data": {
      "text/html": [
       "<table>\n",
       "<thead><tr><th scope=col>Sepal.Length</th><th scope=col>Sepal.Width</th><th scope=col>Petal.Length</th><th scope=col>Petal.Width</th><th scope=col>Species</th></tr></thead>\n",
       "<tbody>\n",
       "\t<tr><td>5.1   </td><td>3.5   </td><td>1.4   </td><td>0.2   </td><td>setosa</td></tr>\n",
       "\t<tr><td>4.9   </td><td>3.0   </td><td>1.4   </td><td>0.2   </td><td>setosa</td></tr>\n",
       "\t<tr><td>4.7   </td><td>3.2   </td><td>1.3   </td><td>0.2   </td><td>setosa</td></tr>\n",
       "\t<tr><td>4.6   </td><td>3.1   </td><td>1.5   </td><td>0.2   </td><td>setosa</td></tr>\n",
       "\t<tr><td>5.0   </td><td>3.6   </td><td>1.4   </td><td>0.2   </td><td>setosa</td></tr>\n",
       "\t<tr><td>5.4   </td><td>3.9   </td><td>1.7   </td><td>0.4   </td><td>setosa</td></tr>\n",
       "</tbody>\n",
       "</table>\n"
      ],
      "text/latex": [
       "\\begin{tabular}{r|lllll}\n",
       " Sepal.Length & Sepal.Width & Petal.Length & Petal.Width & Species\\\\\n",
       "\\hline\n",
       "\t 5.1    & 3.5    & 1.4    & 0.2    & setosa\\\\\n",
       "\t 4.9    & 3.0    & 1.4    & 0.2    & setosa\\\\\n",
       "\t 4.7    & 3.2    & 1.3    & 0.2    & setosa\\\\\n",
       "\t 4.6    & 3.1    & 1.5    & 0.2    & setosa\\\\\n",
       "\t 5.0    & 3.6    & 1.4    & 0.2    & setosa\\\\\n",
       "\t 5.4    & 3.9    & 1.7    & 0.4    & setosa\\\\\n",
       "\\end{tabular}\n"
      ],
      "text/markdown": [
       "\n",
       "Sepal.Length | Sepal.Width | Petal.Length | Petal.Width | Species | \n",
       "|---|---|---|---|---|---|\n",
       "| 5.1    | 3.5    | 1.4    | 0.2    | setosa | \n",
       "| 4.9    | 3.0    | 1.4    | 0.2    | setosa | \n",
       "| 4.7    | 3.2    | 1.3    | 0.2    | setosa | \n",
       "| 4.6    | 3.1    | 1.5    | 0.2    | setosa | \n",
       "| 5.0    | 3.6    | 1.4    | 0.2    | setosa | \n",
       "| 5.4    | 3.9    | 1.7    | 0.4    | setosa | \n",
       "\n",
       "\n"
      ],
      "text/plain": [
       "  Sepal.Length Sepal.Width Petal.Length Petal.Width Species\n",
       "1 5.1          3.5         1.4          0.2         setosa \n",
       "2 4.9          3.0         1.4          0.2         setosa \n",
       "3 4.7          3.2         1.3          0.2         setosa \n",
       "4 4.6          3.1         1.5          0.2         setosa \n",
       "5 5.0          3.6         1.4          0.2         setosa \n",
       "6 5.4          3.9         1.7          0.4         setosa "
      ]
     },
     "metadata": {},
     "output_type": "display_data"
    }
   ],
   "source": [
    "head(iris)"
   ]
  },
  {
   "cell_type": "code",
   "execution_count": 72,
   "metadata": {},
   "outputs": [],
   "source": [
    "set.seed(3456)\n",
    "\n",
    "train_index <- createDataPartition(iris$Species, p=0.8, list=FALSE)"
   ]
  },
  {
   "cell_type": "code",
   "execution_count": 73,
   "metadata": {},
   "outputs": [],
   "source": [
    "train <- iris[ train_index,]\n",
    "test  <- iris[-train_index,]"
   ]
  },
  {
   "cell_type": "code",
   "execution_count": 2,
   "metadata": {},
   "outputs": [
    {
     "data": {
      "text/plain": [
       "  Sepal.Length    Sepal.Width     Petal.Length    Petal.Width   \n",
       " Min.   :4.300   Min.   :2.000   Min.   :1.000   Min.   :0.100  \n",
       " 1st Qu.:5.100   1st Qu.:2.800   1st Qu.:1.600   1st Qu.:0.300  \n",
       " Median :5.800   Median :3.000   Median :4.350   Median :1.300  \n",
       " Mean   :5.843   Mean   :3.057   Mean   :3.758   Mean   :1.199  \n",
       " 3rd Qu.:6.400   3rd Qu.:3.300   3rd Qu.:5.100   3rd Qu.:1.800  \n",
       " Max.   :7.900   Max.   :4.400   Max.   :6.900   Max.   :2.500  \n",
       "       Species  \n",
       " setosa    :50  \n",
       " versicolor:50  \n",
       " virginica :50  \n",
       "                \n",
       "                \n",
       "                "
      ]
     },
     "metadata": {},
     "output_type": "display_data"
    }
   ],
   "source": [
    "summary(iris)"
   ]
  },
  {
   "cell_type": "code",
   "execution_count": 25,
   "metadata": {},
   "outputs": [
    {
     "data": {
      "image/png": "[encoded data removed]",
      "text/plain": [
       "plot without title"
      ]
     },
     "metadata": {},
     "output_type": "display_data"
    }
   ],
   "source": [
    "plot(iris$Petal.Length, iris$Petal.Width)"
   ]
  },
  {
   "cell_type": "code",
   "execution_count": 15,
   "metadata": {},
   "outputs": [],
   "source": [
    "promedio_l = mean(iris$Petal.Length)\n",
    "promedio_w = mean(iris$Petal.Width)\n",
    "\n",
    "desviacion_l = sd(iris$Petal.Length)\n",
    "desviacion_w = sd(iris$Petal.Width)"
   ]
  },
  {
   "cell_type": "code",
   "execution_count": 7,
   "metadata": {},
   "outputs": [],
   "source": [
    "trans = cbind(iris)"
   ]
  },
  {
   "cell_type": "code",
   "execution_count": 9,
   "metadata": {},
   "outputs": [],
   "source": [
    "trans$Petal.Length = iris$Petal.Length - l\n",
    "trans$Petal.Width  = iris$Petal.Width  - w"
   ]
  },
  {
   "cell_type": "code",
   "execution_count": 16,
   "metadata": {},
   "outputs": [],
   "source": [
    "iris_esc = cbind(trans)"
   ]
  },
  {
   "cell_type": "code",
   "execution_count": 17,
   "metadata": {},
   "outputs": [],
   "source": [
    "iris_esc$Petal.Length = trans$Petal.Length / desviacion_l\n",
    "iris_esc$Petal.Width  = trans$Petal.Width  / desviacion_w"
   ]
  },
  {
   "cell_type": "code",
   "execution_count": 26,
   "metadata": {},
   "outputs": [
    {
     "data": {
      "image/png": "[encoded data removed]",
      "text/plain": [
       "plot without title"
      ]
     },
     "metadata": {},
     "output_type": "display_data"
    }
   ],
   "source": [
    "plot(trans$Petal.Length, trans$Petal.Width)"
   ]
  },
  {
   "cell_type": "code",
   "execution_count": 27,
   "metadata": {},
   "outputs": [
    {
     "data": {
      "image/png": "[encoded data removed]",
      "text/plain": [
       "plot without title"
      ]
     },
     "metadata": {},
     "output_type": "display_data"
    }
   ],
   "source": [
    "plot(iris_esc$Petal.Length, iris_esc$Petal.Width)"
   ]
  },
  {
   "cell_type": "code",
   "execution_count": 13,
   "metadata": {},
   "outputs": [
    {
     "data": {
      "text/html": [
       "0.189979418344519"
      ],
      "text/latex": [
       "0.189979418344519"
      ],
      "text/markdown": [
       "0.189979418344519"
      ],
      "text/plain": [
       "[1] 0.1899794"
      ]
     },
     "metadata": {},
     "output_type": "display_data"
    }
   ],
   "source": [
    "var(trans$Sepal.Width)"
   ]
  },
  {
   "cell_type": "markdown",
   "metadata": {},
   "source": [
    "### Análsis de componentes principales\n",
    "\n",
    "Bibliografía:\n",
    "* http://cs229.stanford.edu/notes/cs229-notes10.pdf\n",
    "* http://ufldl.stanford.edu/wiki/index.php/PCA\n",
    "\n",
    "También conocido como PCA por sus siglas en inglés (*principal component analisys*).\n",
    "\n",
    "PCA es un método de **reducción de dimensionalidad**; sirve para trabajar con menos variables de las que originalmente contamos. (Variable, atributo, dimensión son sinónimos.) ¿Menos es más? A veces sí.\n",
    "\n",
    "1. Algunos algoritmos aprenden más rápidamente con menos atributos, el tiempo de procesamiento y el espacio de almacenamiento se reducen. Imaginemos pasar de 100 variables a 5.\n",
    "2. Otra razón por la cuál descartar atributos es para evitar los temidos efectos de [sobreajuste](https://en.wikipedia.org/wiki/Overfitting) y [maldición de la dimensionalidad](https://en.wikipedia.org/wiki/Curse_of_dimensionality).\n",
    "3. También sirve para graficar en 2D o en 3D datos de mayor dimensionalidad.\n",
    "\n",
    "La reducción de dimensionalidad se logra en esencia a través de la [**selección de atributos**](https://en.wikipedia.org/wiki/Feature_selection), que es básicamente utilizar un criterio para seleccionar un subconjunto de atributos, no cualquier selección sino la más conveniente para nuestro modelo. La premisa es que los datos suelen contener atributos que son *irrelevantes* o *redundantes* y que pueden ser removidos sin incurrir en demasiada pérdida de información. Si dos atributos están fuertemente correlacionados entonces son redundantes. \n",
    "\n",
    "Existen diversas maneras de remover atributos ([algunas técnicas](http://scikit-learn.org/stable/modules/feature_selection.html)).\n",
    "\n",
    "1. Conforme a su varianza,\n",
    "2. según tests estadísticos,\n",
    "3. según la información proporcionada por otros modelos,\n",
    "4. eliminación recursiva.\n",
    "\n",
    "Nos vamos a centrar en la primera de las opciones ya que es la utilizada por PCA—*descarta los atributos de menor varianza*. En general se considera que las dimensiones que varían poco no contribuyen a explicar los datos, son irrelevantes.\n",
    "\n",
    "PCA es el producto de realizar una [**extracción de atributos**](https://en.wikipedia.org/wiki/Feature_extraction) seguida por una selección de atributos. La extracción de atributos es la generación de nuevos atributos a partir de los existentes por medio de una transformación. Este proceso no crea ni destruye información, solo cambia \"el punto de vista\" que se tiene de los datos en pos de conseguir atributos informativos y no redundantes.\n",
    "\n",
    "En particular PCA realiza una transformación lineal de los datos, más específicamente, una rotación. Para lograr una rotación se definen nuevos ejes a partir de los originales (es lo que en álgebra lineal se conoce como *cambio de base*). Los nuevos ejes o atributos reciben el nombre de componentes principales. La primera componente principal es la dimensión que exhibe la mayor varianza. Las subsiguientes componentes principales se contruyen en base a las anteriores: la segunda, que es la segunda en varianza, forma un ángulo recto respecto de la primera, la tercera forma ángulos rectos respecto a la primera y a la segunda, así sucesivamente.\n",
    "\n",
    "Luego de la rotación, opcional pero usualmente PCA selecciona las primeras componentes principales, que son las de mayor varianza. "
   ]
  },
  {
   "cell_type": "markdown",
   "metadata": {},
   "source": [
    "![](http://burn-research.be/wp-content/uploads/2015/03/PCA_scheme.0011.png)"
   ]
  },
  {
   "cell_type": "code",
   "execution_count": 33,
   "metadata": {
    "collapsed": true
   },
   "outputs": [],
   "source": [
    "#install.packages('ggExtra')\n",
    "\n",
    "library('ggExtra')\n",
    "library('ggplot2')"
   ]
  },
  {
   "cell_type": "markdown",
   "metadata": {},
   "source": [
    "Temperatura diaria promedio cerca del nivel del mar.\n",
    "\n",
    "- x: year 2000, day 50\n",
    "- y: year 2000, day 51\n",
    "\n",
    "- units: K\n",
    "\n",
    "Fuente de datos: http://www.esrl.noaa.gov/psd/data/gridded/data.ncep.reanalysis.surface.html"
   ]
  },
  {
   "cell_type": "code",
   "execution_count": 109,
   "metadata": {},
   "outputs": [
    {
     "data": {
      "text/html": [
       "<table>\n",
       "<thead><tr><th scope=col>temperatura</th><th scope=col>temperatura.al.día.siguiente</th></tr></thead>\n",
       "<tbody>\n",
       "\t<tr><td>246.97</td><td>244.85</td></tr>\n",
       "\t<tr><td>241.82</td><td>239.37</td></tr>\n",
       "\t<tr><td>241.78</td><td>239.53</td></tr>\n",
       "\t<tr><td>241.82</td><td>239.67</td></tr>\n",
       "\t<tr><td>241.82</td><td>239.85</td></tr>\n",
       "\t<tr><td>241.79</td><td>240.04</td></tr>\n",
       "</tbody>\n",
       "</table>\n"
      ],
      "text/latex": [
       "\\begin{tabular}{r|ll}\n",
       " temperatura & temperatura.al.día.siguiente\\\\\n",
       "\\hline\n",
       "\t 246.97 & 244.85\\\\\n",
       "\t 241.82 & 239.37\\\\\n",
       "\t 241.78 & 239.53\\\\\n",
       "\t 241.82 & 239.67\\\\\n",
       "\t 241.82 & 239.85\\\\\n",
       "\t 241.79 & 240.04\\\\\n",
       "\\end{tabular}\n"
      ],
      "text/markdown": [
       "\n",
       "temperatura | temperatura.al.día.siguiente | \n",
       "|---|---|---|---|---|---|\n",
       "| 246.97 | 244.85 | \n",
       "| 241.82 | 239.37 | \n",
       "| 241.78 | 239.53 | \n",
       "| 241.82 | 239.67 | \n",
       "| 241.82 | 239.85 | \n",
       "| 241.79 | 240.04 | \n",
       "\n",
       "\n"
      ],
      "text/plain": [
       "  temperatura temperatura.al.día.siguiente\n",
       "1 246.97      244.85                      \n",
       "2 241.82      239.37                      \n",
       "3 241.78      239.53                      \n",
       "4 241.82      239.67                      \n",
       "5 241.82      239.85                      \n",
       "6 241.79      240.04                      "
      ]
     },
     "metadata": {},
     "output_type": "display_data"
    }
   ],
   "source": [
    "datos <- read.table('pair0043.txt', col.names=c('temperatura', 'temperatura al día siguiente'))\n",
    "head(datos)"
   ]
  },
  {
   "cell_type": "code",
   "execution_count": 110,
   "metadata": {},
   "outputs": [
    {
     "data": {},
     "metadata": {},
     "output_type": "display_data"
    },
    {
     "data": {
      "image/png": "[encoded data removed]",
      "text/plain": [
       "plot without title"
      ]
     },
     "metadata": {},
     "output_type": "display_data"
    }
   ],
   "source": [
    "p <- ggplot(datos, aes(temperatura, temperatura.al.día.siguiente)) + geom_point() \n",
    "\n",
    "ggMarginal(p, type = 'histogram')"
   ]
  },
  {
   "cell_type": "code",
   "execution_count": 119,
   "metadata": {},
   "outputs": [],
   "source": [
    "pca <- prcomp(datos, center=TRUE, scale.=FALSE)\n",
    "datos.pca <- as.data.frame(predict(pca, datos))"
   ]
  },
  {
   "cell_type": "code",
   "execution_count": 120,
   "metadata": {},
   "outputs": [
    {
     "data": {},
     "metadata": {},
     "output_type": "display_data"
    },
    {
     "data": {
      "image/png": "[encoded data removed]",
      "text/plain": [
       "plot without title"
      ]
     },
     "metadata": {},
     "output_type": "display_data"
    }
   ],
   "source": [
    "p <- ggplot(datos.pca, aes(PC1, PC2)) + geom_point() \n",
    "\n",
    "ggMarginal(p, type = 'histogram')"
   ]
  },
  {
   "cell_type": "markdown",
   "metadata": {},
   "source": [
    "Hemos pasado de dos atributos (`temperatura` y `temperatura.al.día.siguiente`) con varianzas semejantes a dos atributos de los cuales uno (`PC2`) presenta mayor varianza respecto al otro (`PC2`)."
   ]
  },
  {
   "cell_type": "code",
   "execution_count": 121,
   "metadata": {},
   "outputs": [
    {
     "data": {
      "text/plain": [
       "Standard deviations (1, .., p=2):\n",
       "[1] 30.17544278650  1.56103443678\n",
       "\n",
       "Rotation (n x k) = (2 x 2):\n",
       "                                        PC1             PC2\n",
       "temperatura                  0.708529947747 -0.705680744492\n",
       "temperatura.al.día.siguiente 0.705680744492  0.708529947747"
      ]
     },
     "metadata": {},
     "output_type": "display_data"
    }
   ],
   "source": [
    "pca"
   ]
  },
  {
   "cell_type": "markdown",
   "metadata": {},
   "source": [
    "La rotación se interpreta como:\n",
    "\n",
    "```\n",
    "PC1 =   temperatura * 0.7 + temperatura.al.día.siguiente * 0.7\n",
    "PC2 = - temperatura * 0.7 + temperatura.al.día.siguiente * 0.7\n",
    "```\n",
    "\n",
    "Los nuevos atributos, al ser una combinación de atributos reales, puede que carezcan de significado."
   ]
  },
  {
   "cell_type": "code",
   "execution_count": 65,
   "metadata": {},
   "outputs": [
    {
     "data": {
      "text/plain": [
       "Importance of components%s:\n",
       "                              PC1          PC2\n",
       "Standard deviation     1.41232497 0.0730629117\n",
       "Proportion of Variance 0.99733000 0.0026700000\n",
       "Cumulative Proportion  0.99733000 1.0000000000"
      ]
     },
     "metadata": {},
     "output_type": "display_data"
    }
   ],
   "source": [
    "summary(pca)"
   ]
  },
  {
   "cell_type": "markdown",
   "metadata": {},
   "source": [
    "Como los atributos están muy correlacionados vemos que son redundates y que solo con uno de los mismos alcanza para explicar el comportamiento de los datos.\n",
    "\n",
    "---\n",
    "\n",
    "El conjunto de datos anterior solo tiene dos atributos, fue usado como ejemplo para mostrar la rotación de los datos. Veamos que pasa con el conjunto de datos de flores de iris, que tiene cuatro dimensiones."
   ]
  },
  {
   "cell_type": "code",
   "execution_count": null,
   "metadata": {},
   "outputs": [],
   "source": [
    "https://media.giphy.com/media/Lyejb62QjQepG/source.gif"
   ]
  },
  {
   "cell_type": "code",
   "execution_count": 115,
   "metadata": {},
   "outputs": [],
   "source": [
    "iris.pca <- prcomp(train[, 1:4], center=TRUE, scale.=FALSE) "
   ]
  },
  {
   "cell_type": "code",
   "execution_count": 116,
   "metadata": {},
   "outputs": [
    {
     "data": {
      "text/plain": [
       "Importance of components%s:\n",
       "                              PC1         PC2         PC3         PC4\n",
       "Standard deviation     2.06072276 0.499990675 0.277605695 0.161907881\n",
       "Proportion of Variance 0.92320000 0.054350000 0.016750000 0.005700000\n",
       "Cumulative Proportion  0.92320000 0.977550000 0.994300000 1.000000000"
      ]
     },
     "metadata": {},
     "output_type": "display_data"
    }
   ],
   "source": [
    "summary(iris.pca)"
   ]
  },
  {
   "cell_type": "code",
   "execution_count": 117,
   "metadata": {},
   "outputs": [
    {
     "data": {
      "image/png": "[encoded data removed]",
      "text/plain": [
       "Plot with title “iris.pca”"
      ]
     },
     "metadata": {},
     "output_type": "display_data"
    }
   ],
   "source": [
    "plot(iris.pca, type='l')"
   ]
  },
  {
   "cell_type": "markdown",
   "metadata": {},
   "source": [
    "Es necesario decidir cuántas componentes principales conservar. Esto se puede hacer de varias maneras.\n",
    "\n",
    "1. Entrenando y evaluando modelos, variando la cantidad de componentes principales, dejando que las métricas hablen.\n",
    "2. Estableciendo una cota de antemano, por ejemplo el 95% de la varianza acumulada. Del reporte anterior vemos que PC1 y PC2 son suficientes ya que acumulan el 98% de la varianza de los datos.\n",
    "3. Observando un gráfico como el anterior, haciendo un corte cuando las componentes dejan de aportar varianza significativamente."
   ]
  },
  {
   "cell_type": "markdown",
   "metadata": {},
   "source": [
    "### Con caret"
   ]
  },
  {
   "cell_type": "markdown",
   "metadata": {},
   "source": [
    "Es posible especificar un umbral (`thresh`) de varianza."
   ]
  },
  {
   "cell_type": "code",
   "execution_count": 84,
   "metadata": {},
   "outputs": [],
   "source": [
    "trans <- preProcess(train[, 1:4], method=c('center', 'scale', 'pca'), thresh=0.6)\n",
    "iris.pca <- predict(trans, test[, 1:4])"
   ]
  },
  {
   "cell_type": "markdown",
   "metadata": {},
   "source": [
    "### SVM"
   ]
  },
  {
   "cell_type": "code",
   "execution_count": 88,
   "metadata": {
    "collapsed": true
   },
   "outputs": [],
   "source": [
    "#install.packages('e1071')\n",
    "\n",
    "library(e1071)"
   ]
  },
  {
   "cell_type": "code",
   "execution_count": 89,
   "metadata": {},
   "outputs": [],
   "source": [
    "modelo <- svm(Species ~ ., data=train, kernel='linear', cost=1, scale=FALSE)"
   ]
  },
  {
   "cell_type": "code",
   "execution_count": 90,
   "metadata": {},
   "outputs": [
    {
     "data": {
      "text/plain": [
       "\n",
       "Call:\n",
       "svm(formula = Species ~ ., data = train, kernel = \"linear\", cost = 1, \n",
       "    scale = FALSE)\n",
       "\n",
       "\n",
       "Parameters:\n",
       "   SVM-Type:  C-classification \n",
       " SVM-Kernel:  linear \n",
       "       cost:  1 \n",
       "      gamma:  0.25 \n",
       "\n",
       "Number of Support Vectors:  26\n",
       "\n",
       " ( 3 12 11 )\n",
       "\n",
       "\n",
       "Number of Classes:  3 \n",
       "\n",
       "Levels: \n",
       " setosa versicolor virginica\n",
       "\n",
       "\n"
      ]
     },
     "metadata": {},
     "output_type": "display_data"
    }
   ],
   "source": [
    "summary(modelo)"
   ]
  },
  {
   "cell_type": "code",
   "execution_count": 91,
   "metadata": {},
   "outputs": [
    {
     "data": {
      "image/png": "[encoded data removed]",
      "text/plain": [
       "Plot with title “SVM classification plot”"
      ]
     },
     "metadata": {},
     "output_type": "display_data"
    }
   ],
   "source": [
    "plot(modelo, train, Petal.Width ~ Petal.Length)"
   ]
  },
  {
   "cell_type": "code",
   "execution_count": 92,
   "metadata": {
    "collapsed": true
   },
   "outputs": [],
   "source": [
    "x <- subset(test, select=-Species)\n",
    "y <- test$Species"
   ]
  },
  {
   "cell_type": "code",
   "execution_count": 93,
   "metadata": {},
   "outputs": [],
   "source": [
    "pred <- predict(modelo, x)"
   ]
  },
  {
   "cell_type": "code",
   "execution_count": 94,
   "metadata": {},
   "outputs": [
    {
     "data": {
      "text/plain": [
       "            y\n",
       "pred         setosa versicolor virginica\n",
       "  setosa         10          0         0\n",
       "  versicolor      0         10         0\n",
       "  virginica       0          0        10"
      ]
     },
     "metadata": {},
     "output_type": "display_data"
    }
   ],
   "source": [
    "table(pred, y)"
   ]
  },
  {
   "cell_type": "code",
   "execution_count": 95,
   "metadata": {},
   "outputs": [
    {
     "data": {
      "text/plain": [
       "Confusion Matrix and Statistics\n",
       "\n",
       "            Reference\n",
       "Prediction   setosa versicolor virginica\n",
       "  setosa         10          0         0\n",
       "  versicolor      0         10         0\n",
       "  virginica       0          0        10\n",
       "\n",
       "Overall Statistics\n",
       "                                          \n",
       "               Accuracy : 1               \n",
       "                 95% CI : (0.884296692, 1)\n",
       "    No Information Rate : 0.333333333     \n",
       "    P-Value [Acc > NIR] : 4.85693575e-15  \n",
       "                                          \n",
       "                  Kappa : 1               \n",
       " Mcnemar's Test P-Value : NA              \n",
       "\n",
       "Statistics by Class:\n",
       "\n",
       "                     Class: setosa Class: versicolor Class: virginica\n",
       "Sensitivity            1.000000000       1.000000000      1.000000000\n",
       "Specificity            1.000000000       1.000000000      1.000000000\n",
       "Pos Pred Value         1.000000000       1.000000000      1.000000000\n",
       "Neg Pred Value         1.000000000       1.000000000      1.000000000\n",
       "Prevalence             0.333333333       0.333333333      0.333333333\n",
       "Detection Rate         0.333333333       0.333333333      0.333333333\n",
       "Detection Prevalence   0.333333333       0.333333333      0.333333333\n",
       "Balanced Accuracy      1.000000000       1.000000000      1.000000000"
      ]
     },
     "metadata": {},
     "output_type": "display_data"
    }
   ],
   "source": [
    "confusionMatrix(pred, y)"
   ]
  },
  {
   "cell_type": "code",
   "execution_count": 103,
   "metadata": {},
   "outputs": [],
   "source": [
    "ajuste <- tune.svm(Species ~ ., data=train, kernel='linear', cost=c(0.001, 0.01, 0.1, 1, 5, 10, 100) )\n",
    "\n",
    "summary(ajuste)"
   ]
  },
  {
   "cell_type": "code",
   "execution_count": 106,
   "metadata": {},
   "outputs": [
    {
     "data": {
      "text/plain": [
       "\n",
       "Call:\n",
       "best.svm(x = Species ~ ., data = train, cost = c(0.001, 0.01, 0.1, \n",
       "    1, 5, 10, 100), kernel = \"linear\")\n",
       "\n",
       "\n",
       "Parameters:\n",
       "   SVM-Type:  C-classification \n",
       " SVM-Kernel:  linear \n",
       "       cost:  1 \n",
       "      gamma:  0.25 \n",
       "\n",
       "Number of Support Vectors:  27\n",
       "\n",
       " ( 2 14 11 )\n",
       "\n",
       "\n",
       "Number of Classes:  3 \n",
       "\n",
       "Levels: \n",
       " setosa versicolor virginica\n",
       "\n",
       "\n"
      ]
     },
     "metadata": {},
     "output_type": "display_data"
    }
   ],
   "source": [
    "summary(ajuste$best.model)"
   ]
  },
  {
   "cell_type": "markdown",
   "metadata": {},
   "source": [
    "### Recursos\n",
    "\n",
    "http://www.r-bloggers.com\n"
   ]
  },
  {
   "cell_type": "markdown",
   "metadata": {},
   "source": [
    "### Textos\n",
    "\n",
    "- [An Introduction to R](https://cran.r-project.org/doc/manuals/R-intro.pdf) — W. N. Venables, D. M. Smith, R Core Team.\n",
    "\n",
    "Más de programación, tiene modelos lineales.\n",
    "\n",
    "\n",
    "- [R for Data Science](http://r4ds.had.co.nz) — Garrett Grolemund, Hadley Wickham.\n",
    "\n",
    "Lo recomiendan en RStudio.\n",
    "\n",
    "\n",
    "- [Introduction to Probability and Statistics Using R](https://cran.r-project.org/web/packages/IPSUR/vignettes/IPSUR.pdf) — G. Jay Kerns.\n",
    "\n",
    "Mmm.\n",
    "\n",
    "\n",
    "- [Advanced R](http://adv-r.had.co.nz) — Hadley Wickham.\n",
    "\n",
    "Me sirvió la parte de estructuras de datos.\n",
    "\n",
    "\n",
    "- [Vectores atómicos](http://arrgh.tim-smith.us/atomic.html)\n",
    "\n",
    "Lectura obligada.\n",
    "\n",
    "\n",
    "- [An Introduction to Statistical Learning with Applications in R](http://www-bcf.usc.edu/~gareth/ISL) — Gareth James, Daniela Witten, Trevor Hastie and Robert Tibshirani.\n",
    "\n",
    "Es el que usé para aprendizaje automático. Está el **Elements of Statistical Learning** que es más avanzado.\n",
    "\n",
    "\n",
    "- [Advanced Data Analysis from an Elementary Point of View](http://www.stat.cmu.edu/~cshalizi/ADAfaEPoV) — Cosma Rohilla Shalizi.\n",
    "\n",
    "Cubre muchos tópicos avanzados, siendo exigente, desde un punto de vista elemental.\n",
    "\n",
    "\n",
    "- Más textos:\n",
    "  * https://r-dir.com/learn/e-books.html\n",
    "  * https://www.ossblog.org/grasp-r-programming-open-source-books\n",
    "  * http://freecomputerbooks.com/langRBooks.html"
   ]
  }
 ],
 "metadata": {
  "kernelspec": {
   "display_name": "R",
   "language": "R",
   "name": "ir"
  },
  "language_info": {
   "codemirror_mode": "r",
   "file_extension": ".r",
   "mimetype": "text/x-r-source",
   "name": "R",
   "pygments_lexer": "r",
   "version": "3.4.2"
  }
 },
 "nbformat": 4,
 "nbformat_minor": 2
}
