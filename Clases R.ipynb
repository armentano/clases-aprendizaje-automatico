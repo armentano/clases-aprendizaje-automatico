{
 "cells": [
  {
   "cell_type": "markdown",
   "metadata": {},
   "source": [
    "Repositorio con las notas: https://github.com/matiasbattocchia/clases-aprendizaje-automatico"
   ]
  },
  {
   "cell_type": "code",
   "execution_count": 156,
   "metadata": {
    "collapsed": true
   },
   "outputs": [],
   "source": [
    "#install.packages('tidyverse')\n",
    "library('tidyverse')\n",
    "\n",
    "#install.packages('ggExtra')\n",
    "library('gridExtra')\n",
    "library('ggExtra')\n",
    "library('ggplot2')\n",
    "\n",
    "#install.packages('caret')\n",
    "library('caret')"
   ]
  },
  {
   "cell_type": "code",
   "execution_count": 155,
   "metadata": {
    "collapsed": true
   },
   "outputs": [],
   "source": [
    "# https://alexioannides.com/2017/05/08/machine-learning-pipelines-for-r/#comments    \n",
    "#devtools::install_github(\"alexioannides/pipeliner\")"
   ]
  },
  {
   "cell_type": "markdown",
   "metadata": {},
   "source": [
    "Esto es para que se vean mejor los gráficos en Jupyter."
   ]
  },
  {
   "cell_type": "code",
   "execution_count": 103,
   "metadata": {
    "collapsed": true
   },
   "outputs": [],
   "source": [
    "library('repr')\n",
    "options(repr.plot.width=3, repr.plot.height=3)"
   ]
  },
  {
   "cell_type": "markdown",
   "metadata": {},
   "source": [
    "## Flujo de trabajo\n",
    "\n",
    "1. Limpieza de los datos\n",
    "2. Preprocesamiento\n",
    "3. Modelado\n",
    "\n",
    "Usamos el paquete [`caret`](https://topepo.github.io/caret/data-splitting.html) que implementa funciones utilitarias varias."
   ]
  },
  {
   "cell_type": "markdown",
   "metadata": {},
   "source": [
    "### Limpieza de los datos\n",
    "\n",
    "Saltamos este paso por el momento. Utilizaremos los conjuntos de datos de ejemplo provistos por R.\n",
    "\n",
    "El conjunto de datos de `iris` tiene cuatro variables independientes y una dependiente que es categórica (es un conjunto para **clasificación**)."
   ]
  },
  {
   "cell_type": "code",
   "execution_count": 4,
   "metadata": {
    "collapsed": false
   },
   "outputs": [
    {
     "data": {
      "text/html": [
       "<table>\n",
       "<thead><tr><th scope=col>Sepal.Length</th><th scope=col>Sepal.Width</th><th scope=col>Petal.Length</th><th scope=col>Petal.Width</th><th scope=col>Species</th></tr></thead>\n",
       "<tbody>\n",
       "\t<tr><td>5.1   </td><td>3.5   </td><td>1.4   </td><td>0.2   </td><td>setosa</td></tr>\n",
       "\t<tr><td>4.9   </td><td>3.0   </td><td>1.4   </td><td>0.2   </td><td>setosa</td></tr>\n",
       "\t<tr><td>4.7   </td><td>3.2   </td><td>1.3   </td><td>0.2   </td><td>setosa</td></tr>\n",
       "\t<tr><td>4.6   </td><td>3.1   </td><td>1.5   </td><td>0.2   </td><td>setosa</td></tr>\n",
       "\t<tr><td>5.0   </td><td>3.6   </td><td>1.4   </td><td>0.2   </td><td>setosa</td></tr>\n",
       "\t<tr><td>5.4   </td><td>3.9   </td><td>1.7   </td><td>0.4   </td><td>setosa</td></tr>\n",
       "</tbody>\n",
       "</table>\n"
      ],
      "text/latex": [
       "\\begin{tabular}{r|lllll}\n",
       " Sepal.Length & Sepal.Width & Petal.Length & Petal.Width & Species\\\\\n",
       "\\hline\n",
       "\t 5.1    & 3.5    & 1.4    & 0.2    & setosa\\\\\n",
       "\t 4.9    & 3.0    & 1.4    & 0.2    & setosa\\\\\n",
       "\t 4.7    & 3.2    & 1.3    & 0.2    & setosa\\\\\n",
       "\t 4.6    & 3.1    & 1.5    & 0.2    & setosa\\\\\n",
       "\t 5.0    & 3.6    & 1.4    & 0.2    & setosa\\\\\n",
       "\t 5.4    & 3.9    & 1.7    & 0.4    & setosa\\\\\n",
       "\\end{tabular}\n"
      ],
      "text/markdown": [
       "\n",
       "Sepal.Length | Sepal.Width | Petal.Length | Petal.Width | Species | \n",
       "|---|---|---|---|---|---|\n",
       "| 5.1    | 3.5    | 1.4    | 0.2    | setosa | \n",
       "| 4.9    | 3.0    | 1.4    | 0.2    | setosa | \n",
       "| 4.7    | 3.2    | 1.3    | 0.2    | setosa | \n",
       "| 4.6    | 3.1    | 1.5    | 0.2    | setosa | \n",
       "| 5.0    | 3.6    | 1.4    | 0.2    | setosa | \n",
       "| 5.4    | 3.9    | 1.7    | 0.4    | setosa | \n",
       "\n",
       "\n"
      ],
      "text/plain": [
       "  Sepal.Length Sepal.Width Petal.Length Petal.Width Species\n",
       "1 5.1          3.5         1.4          0.2         setosa \n",
       "2 4.9          3.0         1.4          0.2         setosa \n",
       "3 4.7          3.2         1.3          0.2         setosa \n",
       "4 4.6          3.1         1.5          0.2         setosa \n",
       "5 5.0          3.6         1.4          0.2         setosa \n",
       "6 5.4          3.9         1.7          0.4         setosa "
      ]
     },
     "metadata": {},
     "output_type": "display_data"
    }
   ],
   "source": [
    "head(iris)"
   ]
  },
  {
   "cell_type": "markdown",
   "metadata": {},
   "source": [
    "### Preprocesamiento\n",
    "\n",
    "Una vez que los datos están en condiciones suelen atravesar diversas transformaciones que mejoran la calidad del modelo. Veremos dos técnicas bastante útiles:\n",
    "\n",
    "1. Estandarización\n",
    "2. Análisis de componentes principales\n",
    "\n",
    "Previo a transformar el conjunto de datos es necesario separarlo en conjuntos de **desarrollo** y **prueba**. Si bien todos los datos son eventualmente transformados, las transformaciones se determinan en base al conjunto de desarollo; \"se entrenan\" de manera a similar a como se entrenan los modelos, de la misma manera debemos evitar mostrar los datos de prueba durante el preprocesamiento.\n",
    "\n",
    "Particionamos los datos en los conjuntos y proporciones\n",
    "* `train` 80% y\n",
    "* `test` 20%."
   ]
  },
  {
   "cell_type": "code",
   "execution_count": 5,
   "metadata": {
    "collapsed": true
   },
   "outputs": [],
   "source": [
    "set.seed(3456)\n",
    "\n",
    "train_index <- createDataPartition(iris$Species, p=0.8, list=FALSE)\n",
    "\n",
    "train <- iris[ train_index,]\n",
    "test  <- iris[-train_index,]"
   ]
  },
  {
   "cell_type": "markdown",
   "metadata": {},
   "source": [
    "### Estandarización\n",
    "\n",
    "Consiste en alguna o ambas de estas operaciones:\n",
    "\n",
    "1. Centrado\n",
    "2. Escaleado\n",
    "\n",
    "Para entender mejor de qué se trata este proceso es conveniente graficar el conjunto de datos. En particular el que estamos usando tiene cuatro variables independientes pero vamos a graficar dos (se requiere una dimensión espacial por variable, es difícil graficar más de tres variables simultáneamente).\n",
    "\n",
    "La estandarización afecta a todas las variables a excepción de las dependientes, que quedan dejadas de lado; es como si estuviésemos realizando **aprendizaje no supervisado**. Por comodidad vamos a ejemplificar solo dos de las variables."
   ]
  },
  {
   "cell_type": "code",
   "execution_count": 116,
   "metadata": {
    "collapsed": false
   },
   "outputs": [],
   "source": [
    "a <- ggplot(train, aes(Petal.Length, Petal.Width)) +\n",
    "        geom_point(alpha=0.3) + \n",
    "        scale_x_continuous(limits=c(-7,7)) + \n",
    "        scale_y_continuous(limits=c(-7,7)) +\n",
    "        theme_bw() +\n",
    "        labs(title='Original', x='Largo', y='Ancho')"
   ]
  },
  {
   "cell_type": "markdown",
   "metadata": {},
   "source": [
    "#### Centrado\n",
    "\n",
    "Consiste en disponer los datos alrededor del *origen de coordenadas*, el punto `(0,0)` que es donde empezamos a contar las distancias en sendas dimensiones.\n",
    "\n",
    "Primero debemos encontrar el \"centro\" de los datos, que está dado por `(promedio X1, promedio X2)`. Luego restamos el centro a los datos para obtener un nuevo `data frame` transformado."
   ]
  },
  {
   "cell_type": "code",
   "execution_count": null,
   "metadata": {
    "collapsed": true
   },
   "outputs": [],
   "source": [
    "promedio_petal_length = mean(train$Petal.Length)\n",
    "promedio_petal_width  = mean(train$Petal.Width)\n",
    "\n",
    "petal_length = train$Petal.Length - promedio_petal_length\n",
    "petal_width  = train$Petal.Width  - promedio_petal_width\n",
    "\n",
    "train_centrado = data.frame(petal_length, petal_width)"
   ]
  },
  {
   "cell_type": "code",
   "execution_count": 117,
   "metadata": {
    "collapsed": false
   },
   "outputs": [],
   "source": [
    "b <- ggplot(train_centrado, aes(petal_length, petal_width)) +\n",
    "        geom_point(alpha=0.3) + \n",
    "        scale_x_continuous(limits=c(-7,7)) + \n",
    "        scale_y_continuous(limits=c(-7,7)) +\n",
    "        theme_bw() +\n",
    "        labs(title='Centrado', x='Largo', y='Ancho')"
   ]
  },
  {
   "cell_type": "markdown",
   "metadata": {},
   "source": [
    "*Notar que los datos ahora gravitan alrededor del punto* `(0,0)`."
   ]
  },
  {
   "cell_type": "markdown",
   "metadata": {
    "collapsed": true
   },
   "source": [
    "#### Escaleado\n",
    "\n",
    "Hablamos de \"escalear\" cuando nos referimos a cambiar la escala de una variable, por ejemplo para pasar de metros a kilómetros. \n",
    "\n",
    "Con esta transformación se pretende lograr que todas las dimensiones o variables tengan la misma escala. Esto se consigue diviendo todos los valores de una varible por su desviación estándar."
   ]
  },
  {
   "cell_type": "code",
   "execution_count": null,
   "metadata": {
    "collapsed": true
   },
   "outputs": [],
   "source": [
    "desviación_petal_length = sd(train$Petal.Length)\n",
    "desviación_petal_width  = sd(train$Petal.Width)\n",
    "\n",
    "petal_length = train_centrado$petal_length / desviación_petal_length\n",
    "petal_width  = train_centrado$petal_width  / desviación_petal_width\n",
    "\n",
    "train_centrado_escaleado = data.frame(petal_length, petal_width)"
   ]
  },
  {
   "cell_type": "code",
   "execution_count": 118,
   "metadata": {
    "collapsed": false
   },
   "outputs": [],
   "source": [
    "c <- ggplot(train_centrado_escaleado, aes(petal_length, petal_width)) +\n",
    "        geom_point(alpha=0.3) + \n",
    "        scale_x_continuous(limits=c(-7,7)) + \n",
    "        scale_y_continuous(limits=c(-7,7)) +\n",
    "        theme_bw() +\n",
    "        labs(title='Escaleado', x='Largo', y='Ancho')"
   ]
  },
  {
   "cell_type": "markdown",
   "metadata": {},
   "source": [
    "*Notar que ahora ambas variables tienen la misma escala, van de -1,5 a 1,5.*"
   ]
  },
  {
   "cell_type": "code",
   "execution_count": 119,
   "metadata": {
    "collapsed": false
   },
   "outputs": [
    {
     "data": {
      "image/png": "[encoded data removed]",
      "text/plain": [
       "plot without title"
      ]
     },
     "metadata": {},
     "output_type": "display_data"
    }
   ],
   "source": [
    "options(repr.plot.width=9, repr.plot.height=3)\n",
    "grid.arrange(a, b, c, ncol=3)"
   ]
  },
  {
   "cell_type": "markdown",
   "metadata": {},
   "source": [
    "#### Consideraciones\n",
    "\n",
    "Si le calculamos el **promedio** y la **varianza** a cualquier varible independiente del conjunto de datos transformado, encontraremos que"
   ]
  },
  {
   "cell_type": "code",
   "execution_count": 25,
   "metadata": {
    "collapsed": false
   },
   "outputs": [
    {
     "data": {
      "text/html": [
       "0"
      ],
      "text/latex": [
       "0"
      ],
      "text/markdown": [
       "0"
      ],
      "text/plain": [
       "[1] 0"
      ]
     },
     "metadata": {},
     "output_type": "display_data"
    }
   ],
   "source": [
    "round(mean(train_centrado_escaleado$petal_length))"
   ]
  },
  {
   "cell_type": "code",
   "execution_count": 19,
   "metadata": {
    "collapsed": false
   },
   "outputs": [
    {
     "data": {
      "text/html": [
       "1"
      ],
      "text/latex": [
       "1"
      ],
      "text/markdown": [
       "1"
      ],
      "text/plain": [
       "[1] 1"
      ]
     },
     "metadata": {},
     "output_type": "display_data"
    }
   ],
   "source": [
    "round(var(train_centrado_escaleado$petal_length))"
   ]
  },
  {
   "cell_type": "markdown",
   "metadata": {},
   "source": [
    "Por eso se dice que en la estandarización **centrar** es llevar el promedio a cero y **escalear**, la varianza a uno. Estos pasos son opcionales: es decir, se puede hacer uno sin el otro y además se los puede realizar en cualquier orden.\n",
    "\n",
    "Por lo general es conveniente **centrar**, muchos algoritmos están pensados suponiendo que los datos están centrados, como es el caso de\n",
    "  * SVM (máquina de vectores de soporte) y\n",
    "  * PCA (análisis de componentes principales).\n",
    "  \n",
    "**Escalear** es necesario cuando estamos trabajando con variables que difieren mucho entre sí, por ejemplo *metros cuadrados* (números pequeños) y *precio de una propiedad* (números grandes). Como los algoritmos por lo general son incapaces de advertir la naturaleza de las variables, le terminan dando importancia a las variables con grandes números, que terminan dominando al conjunto de datos y desperdiciando la información contenida en las otras variables. Luego del escaleo todas las variables se parecerán.\n",
    "\n",
    "Si todas las variables ya se parecen (como sucede con los datos de `iris`) entonces no es necesario. Al escalear perdemos la información de que algunas variables tienen más varianza que otras. Hay algoritmos como *árboles de decisión* que son invariantes de escala (no les importa)."
   ]
  },
  {
   "cell_type": "markdown",
   "metadata": {},
   "source": [
    "#### Usando `caret`\n",
    "\n",
    "Lo que acabamos de hacer, en menos líneas."
   ]
  },
  {
   "cell_type": "code",
   "execution_count": 29,
   "metadata": {
    "collapsed": false
   },
   "outputs": [],
   "source": [
    "estandarizador      <- preProcess(train[, 1:4], method=c('center', 'scale'))\n",
    "train_estandarizado <- predict(estandarizador, train[, 1:4])"
   ]
  },
  {
   "cell_type": "markdown",
   "metadata": {},
   "source": [
    "### Análsis de componentes principales\n",
    "\n",
    "Bibliografía:\n",
    "* http://cs229.stanford.edu/notes/cs229-notes10.pdf\n",
    "* http://ufldl.stanford.edu/wiki/index.php/PCA\n",
    "\n",
    "También conocido como PCA por sus siglas en inglés (*principal component analisys*).\n",
    "\n",
    "PCA es un método de **reducción de dimensionalidad**; sirve para trabajar con menos variables de las que originalmente contamos. (Variable, atributo, dimensión son sinónimos.) ¿Menos es más? A veces sí.\n",
    "\n",
    "1. Algunos algoritmos aprenden más rápidamente con menos atributos, el tiempo de procesamiento y el espacio de almacenamiento se reducen. Imaginemos pasar de 100 variables a 5.\n",
    "2. Otra razón por la cuál descartar atributos es para evitar los temidos efectos de [sobreajuste](https://en.wikipedia.org/wiki/Overfitting) y [maldición de la dimensionalidad](https://en.wikipedia.org/wiki/Curse_of_dimensionality).\n",
    "3. También sirve para graficar en 2D o en 3D datos de mayor dimensionalidad.\n",
    "\n",
    "TODO: gráfico\n",
    "\n",
    "La reducción de dimensionalidad se logra en esencia a través de la [**selección de atributos**](https://en.wikipedia.org/wiki/Feature_selection), que es básicamente utilizar un criterio para seleccionar un subconjunto de atributos, no cualquier selección sino la más conveniente para nuestro modelo. La premisa es que los datos suelen contener atributos que son *irrelevantes* o *redundantes* y que pueden ser removidos sin incurrir en demasiada pérdida de información. Si dos atributos están fuertemente correlacionados entonces son redundantes. \n",
    "\n",
    "Existen diversas maneras de remover atributos ([algunas técnicas](http://scikit-learn.org/stable/modules/feature_selection.html)).\n",
    "\n",
    "1. Conforme a su varianza,\n",
    "2. según tests estadísticos,\n",
    "3. según la información proporcionada por otros modelos,\n",
    "4. eliminación recursiva.\n",
    "\n",
    "Nos vamos a centrar en la primera de las opciones ya que es la utilizada por PCA—*descarta los atributos de menor varianza*. En general se considera que las dimensiones que varían poco no contribuyen a explicar los datos, son irrelevantes.\n",
    "\n",
    "PCA es el producto de realizar una [**extracción de atributos**](https://en.wikipedia.org/wiki/Feature_extraction) seguida por una selección de atributos. La extracción de atributos es la generación de nuevos atributos a partir de los existentes por medio de una transformación. Este proceso no crea ni destruye información, solo cambia \"el punto de vista\" que se tiene de los datos en pos de conseguir atributos informativos y no redundantes.\n",
    "\n",
    "En particular PCA realiza una transformación lineal de los datos, más específicamente, una rotación. Para lograr una rotación se definen nuevos ejes a partir de los originales (es lo que en álgebra lineal se conoce como *cambio de base*). Los nuevos ejes o atributos reciben el nombre de componentes principales. La primera componente principal es la dimensión que exhibe la mayor varianza. Las subsiguientes componentes principales se contruyen en base a las anteriores: la segunda, que es la segunda en varianza, forma un ángulo recto respecto de la primera, la tercera forma ángulos rectos respecto a la primera y a la segunda, así sucesivamente.\n",
    "\n",
    "Luego de la rotación, se selecciona cierta cantidad de componentes principales, que son las de mayor varianza y se descarta el resto. PCA cumple su cometido cuando podemos explicar la mayor parte de la variabilidad de los datos con utilizando menos atributos.  "
   ]
  },
  {
   "cell_type": "code",
   "execution_count": 130,
   "metadata": {
    "collapsed": false
   },
   "outputs": [
    {
     "name": "stderr",
     "output_type": "stream",
     "text": [
      "Warning message:\n",
      "“Removed 10 rows containing missing values (geom_bar).”"
     ]
    },
    {
     "data": {},
     "metadata": {},
     "output_type": "display_data"
    },
    {
     "data": {
      "image/png": "[encoded data removed]",
      "text/plain": [
       "plot without title"
      ]
     },
     "metadata": {},
     "output_type": "display_data"
    }
   ],
   "source": [
    "options(repr.plot.width=3, repr.plot.height=3)\n",
    "\n",
    "d <- ggplot(train_centrado, aes(petal_length, petal_width)) +\n",
    "        geom_point(alpha=0.3) + \n",
    "        scale_x_continuous(limits=c(-4,4)) + \n",
    "        scale_y_continuous(limits=c(-4,4)) +\n",
    "        theme_bw() +\n",
    "        labs(title='Centrado', x='Largo', y='Ancho')\n",
    "\n",
    "ggMarginal(d, type='histogram')"
   ]
  },
  {
   "cell_type": "code",
   "execution_count": 36,
   "metadata": {
    "collapsed": false
   },
   "outputs": [
    {
     "data": {
      "text/plain": [
       "Standard deviations (1, .., p=2):\n",
       "[1] 1.915102113993 0.194634252948\n",
       "\n",
       "Rotation (n x k) = (2 x 2):\n",
       "                        PC1             PC2\n",
       "petal_length 0.922856873747 -0.385143078060\n",
       "petal_width  0.385143078060  0.922856873747"
      ]
     },
     "metadata": {},
     "output_type": "display_data"
    }
   ],
   "source": [
    "pca <- prcomp(train_centrado, center=FALSE, scale.=FALSE)\n",
    "pca"
   ]
  },
  {
   "cell_type": "code",
   "execution_count": 37,
   "metadata": {
    "collapsed": true
   },
   "outputs": [],
   "source": [
    "PC1 =  0.923 * train_centrado$petal_length + 0.385 * train_centrado$petal_width\n",
    "PC2 = -0.385 * train_centrado$petal_length + 0.923 * train_centrado$petal_width\n",
    "\n",
    "train_rotado = data.frame(PC1, PC2)"
   ]
  },
  {
   "cell_type": "markdown",
   "metadata": {},
   "source": [
    "Los nuevos atributos, `PC1` y `PC2`, al ser una combinación de atributos reales, puede que carezcan de significado."
   ]
  },
  {
   "cell_type": "code",
   "execution_count": 131,
   "metadata": {
    "collapsed": false
   },
   "outputs": [
    {
     "name": "stderr",
     "output_type": "stream",
     "text": [
      "Warning message:\n",
      "“Removed 12 rows containing missing values (geom_bar).”"
     ]
    },
    {
     "data": {},
     "metadata": {},
     "output_type": "display_data"
    },
    {
     "data": {
      "image/png": "[encoded data removed]",
      "text/plain": [
       "plot without title"
      ]
     },
     "metadata": {},
     "output_type": "display_data"
    }
   ],
   "source": [
    "e <- ggplot(train_rotado, aes(PC1, PC2)) +\n",
    "        geom_point(alpha=0.3) + \n",
    "        scale_x_continuous(limits=c(-4,4)) + \n",
    "        scale_y_continuous(limits=c(-4,4)) +\n",
    "        theme_bw() +\n",
    "        labs(title='Rotado', x='Largo', y='Ancho')\n",
    "\n",
    "ggMarginal(e, type='histogram')"
   ]
  },
  {
   "cell_type": "markdown",
   "metadata": {},
   "source": [
    "Comparemos las varianzas de los datos antes y después de PCA."
   ]
  },
  {
   "cell_type": "code",
   "execution_count": 134,
   "metadata": {
    "collapsed": false
   },
   "outputs": [
    {
     "data": {
      "text/html": [
       "<table>\n",
       "<thead><tr><th></th><th scope=col>petal_length</th><th scope=col>petal_width</th></tr></thead>\n",
       "<tbody>\n",
       "\t<tr><th scope=row>petal_length</th><td>3.12919887955 </td><td>1.290123249300</td></tr>\n",
       "\t<tr><th scope=row>petal_width</th><td>1.29012324930 </td><td>0.576299719888</td></tr>\n",
       "</tbody>\n",
       "</table>\n"
      ],
      "text/latex": [
       "\\begin{tabular}{r|ll}\n",
       "  & petal\\_length & petal\\_width\\\\\n",
       "\\hline\n",
       "\tpetal\\_length & 3.12919887955  & 1.290123249300\\\\\n",
       "\tpetal\\_width & 1.29012324930  & 0.576299719888\\\\\n",
       "\\end{tabular}\n"
      ],
      "text/markdown": [
       "\n",
       "| <!--/--> | petal_length | petal_width | \n",
       "|---|---|\n",
       "| petal_length | 3.12919887955  | 1.290123249300 | \n",
       "| petal_width | 1.29012324930  | 0.576299719888 | \n",
       "\n",
       "\n"
      ],
      "text/plain": [
       "             petal_length  petal_width   \n",
       "petal_length 3.12919887955 1.290123249300\n",
       "petal_width  1.29012324930 0.576299719888"
      ]
     },
     "metadata": {},
     "output_type": "display_data"
    }
   ],
   "source": [
    "var(train_centrado)"
   ]
  },
  {
   "cell_type": "code",
   "execution_count": 135,
   "metadata": {
    "collapsed": false
   },
   "outputs": [
    {
     "data": {
      "text/html": [
       "<table>\n",
       "<thead><tr><th></th><th scope=col>PC1</th><th scope=col>PC2</th></tr></thead>\n",
       "<tbody>\n",
       "\t<tr><th scope=row>PC1</th><td>3.668180792747900</td><td>0.000679410142857</td></tr>\n",
       "\t<tr><th scope=row>PC2</th><td>0.000679410142857</td><td>0.037888453476190</td></tr>\n",
       "</tbody>\n",
       "</table>\n"
      ],
      "text/latex": [
       "\\begin{tabular}{r|ll}\n",
       "  & PC1 & PC2\\\\\n",
       "\\hline\n",
       "\tPC1 & 3.668180792747900 & 0.000679410142857\\\\\n",
       "\tPC2 & 0.000679410142857 & 0.037888453476190\\\\\n",
       "\\end{tabular}\n"
      ],
      "text/markdown": [
       "\n",
       "| <!--/--> | PC1 | PC2 | \n",
       "|---|---|\n",
       "| PC1 | 3.668180792747900 | 0.000679410142857 | \n",
       "| PC2 | 0.000679410142857 | 0.037888453476190 | \n",
       "\n",
       "\n"
      ],
      "text/plain": [
       "    PC1               PC2              \n",
       "PC1 3.668180792747900 0.000679410142857\n",
       "PC2 0.000679410142857 0.037888453476190"
      ]
     },
     "metadata": {},
     "output_type": "display_data"
    }
   ],
   "source": [
    "var(train_rotado)"
   ]
  },
  {
   "cell_type": "markdown",
   "metadata": {},
   "source": [
    "Hemos pasado de dos atributos (`petal_length` y `petal_width`) con varianzas semejantes a dos atributos de los cuales uno (`PC1`) presenta mayor varianza respecto al otro (`PC2`)."
   ]
  },
  {
   "cell_type": "markdown",
   "metadata": {
    "collapsed": true
   },
   "source": [
    "![](https://media.giphy.com/media/Lyejb62QjQepG/source.gif)"
   ]
  },
  {
   "cell_type": "markdown",
   "metadata": {},
   "source": [
    "---\n",
    "\n",
    "Anteriormente usamos solo dos atributos del conjunto de datos de flores de iris, a modo de ejemplo y para simplificar. Veamos que pasa al usar los cuatros atributos."
   ]
  },
  {
   "cell_type": "code",
   "execution_count": 153,
   "metadata": {
    "collapsed": true
   },
   "outputs": [],
   "source": [
    "estandarizador <- preProcess(train[, 1:4], method=c('center'))\n",
    "train_centrado <- predict(estandarizador, train[, 1:4])\n",
    "\n",
    "pca       <- prcomp(train_centrado, center=FALSE, scale.=FALSE)\n",
    "train_pca <- as.data.frame(predict(pca, train_centrado))"
   ]
  },
  {
   "cell_type": "code",
   "execution_count": 149,
   "metadata": {
    "collapsed": false
   },
   "outputs": [
    {
     "data": {
      "text/plain": [
       "Importance of components:\n",
       "                              PC1         PC2         PC3         PC4\n",
       "Standard deviation     2.06072276 0.499990675 0.277605695 0.161907881\n",
       "Proportion of Variance 0.92320000 0.054350000 0.016750000 0.005700000\n",
       "Cumulative Proportion  0.92320000 0.977550000 0.994300000 1.000000000"
      ]
     },
     "metadata": {},
     "output_type": "display_data"
    }
   ],
   "source": [
    "summary(pca)"
   ]
  },
  {
   "cell_type": "markdown",
   "metadata": {},
   "source": [
    "Se obtienen cuatro componentes principales. Como los atributos originales están algo correlacionados y presentan redundancia (por ejemplo los pétalos que son largos también son anchos y viceversa), conservando las primeras dos o tres componentes principales ya explicamos prácticamente toda la varianza de los datos.\n",
    "\n",
    "Esto mismo puede ser representado gráficamente:"
   ]
  },
  {
   "cell_type": "code",
   "execution_count": 150,
   "metadata": {
    "collapsed": false
   },
   "outputs": [
    {
     "data": {
      "image/png": "[encoded data removed]",
      "text/plain": [
       "Plot with title “pca”"
      ]
     },
     "metadata": {},
     "output_type": "display_data"
    }
   ],
   "source": [
    "plot(pca, type='l')"
   ]
  },
  {
   "cell_type": "markdown",
   "metadata": {},
   "source": [
    "¿Cuántas componentes principales conservar? Esto se puede decidir de varias maneras.\n",
    "\n",
    "1. Entrenando y evaluando modelos, variando la cantidad de componentes principales, dejando que las métricas hablen.\n",
    "2. Estableciendo una cota de antemano, por ejemplo el 95% de la varianza acumulada. Del reporte anterior vemos que PC1 y PC2 son suficientes ya que acumulan el 98% de la varianza de los datos.\n",
    "3. Observando un gráfico como el anterior, haciendo un corte cuando las componentes dejan de aportar varianza significativamente."
   ]
  },
  {
   "cell_type": "markdown",
   "metadata": {},
   "source": [
    "#### Con caret"
   ]
  },
  {
   "cell_type": "markdown",
   "metadata": {},
   "source": [
    "La función `preProcess` nos posibilita estandarizar y aplicar PCA de manera sucinta, además de especificar un umbral (`thresh`) de varianza."
   ]
  },
  {
   "cell_type": "code",
   "execution_count": 154,
   "metadata": {
    "collapsed": true
   },
   "outputs": [],
   "source": [
    "transformaciones <- preProcess(train[, 1:4], method=c('center', 'pca'), thresh=0.6)\n",
    "\n",
    "train_transformado <- predict(transformaciones, train[, 1:4])\n",
    "test_transformado  <- predict(transformaciones, test[, 1:4])"
   ]
  },
  {
   "cell_type": "markdown",
   "metadata": {},
   "source": [
    "*Notar que las transformaciones se crean a partir de los datos de entrenemiento exclusivamente*. Luego se utilizan para transformar tanto los datos de entrenamiento como los de prueba."
   ]
  },
  {
   "cell_type": "markdown",
   "metadata": {},
   "source": [
    "### SVM"
   ]
  },
  {
   "cell_type": "markdown",
   "metadata": {},
   "source": [
    "TODO\n",
    "\n",
    "* Presentación\n",
    "  * Teoría\n",
    "  * Demostración práctica\n",
    "* Lista de conceptos"
   ]
  },
  {
   "cell_type": "code",
   "execution_count": 88,
   "metadata": {
    "collapsed": true
   },
   "outputs": [],
   "source": [
    "#install.packages('e1071')\n",
    "\n",
    "library(e1071)"
   ]
  },
  {
   "cell_type": "code",
   "execution_count": 89,
   "metadata": {
    "collapsed": true
   },
   "outputs": [],
   "source": [
    "modelo <- svm(Species ~ ., data=train, kernel='linear', cost=1, scale=FALSE)"
   ]
  },
  {
   "cell_type": "code",
   "execution_count": 90,
   "metadata": {
    "collapsed": false
   },
   "outputs": [
    {
     "data": {
      "text/plain": [
       "\n",
       "Call:\n",
       "svm(formula = Species ~ ., data = train, kernel = \"linear\", cost = 1, \n",
       "    scale = FALSE)\n",
       "\n",
       "\n",
       "Parameters:\n",
       "   SVM-Type:  C-classification \n",
       " SVM-Kernel:  linear \n",
       "       cost:  1 \n",
       "      gamma:  0.25 \n",
       "\n",
       "Number of Support Vectors:  26\n",
       "\n",
       " ( 3 12 11 )\n",
       "\n",
       "\n",
       "Number of Classes:  3 \n",
       "\n",
       "Levels: \n",
       " setosa versicolor virginica\n",
       "\n",
       "\n"
      ]
     },
     "metadata": {},
     "output_type": "display_data"
    }
   ],
   "source": [
    "summary(modelo)"
   ]
  },
  {
   "cell_type": "code",
   "execution_count": 91,
   "metadata": {
    "collapsed": false
   },
   "outputs": [
    {
     "data": {
      "image/png": "[encoded data removed]",
      "text/plain": [
       "Plot with title “SVM classification plot”"
      ]
     },
     "metadata": {},
     "output_type": "display_data"
    }
   ],
   "source": [
    "plot(modelo, train, Petal.Width ~ Petal.Length)"
   ]
  },
  {
   "cell_type": "code",
   "execution_count": 92,
   "metadata": {
    "collapsed": true
   },
   "outputs": [],
   "source": [
    "x <- subset(test, select=-Species)\n",
    "y <- test$Species"
   ]
  },
  {
   "cell_type": "code",
   "execution_count": 93,
   "metadata": {
    "collapsed": true
   },
   "outputs": [],
   "source": [
    "pred <- predict(modelo, x)"
   ]
  },
  {
   "cell_type": "code",
   "execution_count": 94,
   "metadata": {
    "collapsed": false
   },
   "outputs": [
    {
     "data": {
      "text/plain": [
       "            y\n",
       "pred         setosa versicolor virginica\n",
       "  setosa         10          0         0\n",
       "  versicolor      0         10         0\n",
       "  virginica       0          0        10"
      ]
     },
     "metadata": {},
     "output_type": "display_data"
    }
   ],
   "source": [
    "table(pred, y)"
   ]
  },
  {
   "cell_type": "code",
   "execution_count": 95,
   "metadata": {
    "collapsed": false
   },
   "outputs": [
    {
     "data": {
      "text/plain": [
       "Confusion Matrix and Statistics\n",
       "\n",
       "            Reference\n",
       "Prediction   setosa versicolor virginica\n",
       "  setosa         10          0         0\n",
       "  versicolor      0         10         0\n",
       "  virginica       0          0        10\n",
       "\n",
       "Overall Statistics\n",
       "                                          \n",
       "               Accuracy : 1               \n",
       "                 95% CI : (0.884296692, 1)\n",
       "    No Information Rate : 0.333333333     \n",
       "    P-Value [Acc > NIR] : 4.85693575e-15  \n",
       "                                          \n",
       "                  Kappa : 1               \n",
       " Mcnemar's Test P-Value : NA              \n",
       "\n",
       "Statistics by Class:\n",
       "\n",
       "                     Class: setosa Class: versicolor Class: virginica\n",
       "Sensitivity            1.000000000       1.000000000      1.000000000\n",
       "Specificity            1.000000000       1.000000000      1.000000000\n",
       "Pos Pred Value         1.000000000       1.000000000      1.000000000\n",
       "Neg Pred Value         1.000000000       1.000000000      1.000000000\n",
       "Prevalence             0.333333333       0.333333333      0.333333333\n",
       "Detection Rate         0.333333333       0.333333333      0.333333333\n",
       "Detection Prevalence   0.333333333       0.333333333      0.333333333\n",
       "Balanced Accuracy      1.000000000       1.000000000      1.000000000"
      ]
     },
     "metadata": {},
     "output_type": "display_data"
    }
   ],
   "source": [
    "confusionMatrix(pred, y)"
   ]
  },
  {
   "cell_type": "code",
   "execution_count": 103,
   "metadata": {
    "collapsed": true
   },
   "outputs": [],
   "source": [
    "ajuste <- tune.svm(Species ~ ., data=train, kernel='linear', cost=c(0.001, 0.01, 0.1, 1, 5, 10, 100) )\n",
    "\n",
    "summary(ajuste)"
   ]
  },
  {
   "cell_type": "code",
   "execution_count": 106,
   "metadata": {
    "collapsed": false
   },
   "outputs": [
    {
     "data": {
      "text/plain": [
       "\n",
       "Call:\n",
       "best.svm(x = Species ~ ., data = train, cost = c(0.001, 0.01, 0.1, \n",
       "    1, 5, 10, 100), kernel = \"linear\")\n",
       "\n",
       "\n",
       "Parameters:\n",
       "   SVM-Type:  C-classification \n",
       " SVM-Kernel:  linear \n",
       "       cost:  1 \n",
       "      gamma:  0.25 \n",
       "\n",
       "Number of Support Vectors:  27\n",
       "\n",
       " ( 2 14 11 )\n",
       "\n",
       "\n",
       "Number of Classes:  3 \n",
       "\n",
       "Levels: \n",
       " setosa versicolor virginica\n",
       "\n",
       "\n"
      ]
     },
     "metadata": {},
     "output_type": "display_data"
    }
   ],
   "source": [
    "summary(ajuste$best.model)"
   ]
  },
  {
   "cell_type": "markdown",
   "metadata": {},
   "source": [
    "### Recursos\n",
    "\n",
    "http://www.r-bloggers.com\n"
   ]
  },
  {
   "cell_type": "markdown",
   "metadata": {},
   "source": [
    "### Textos\n",
    "\n",
    "- [An Introduction to R](https://cran.r-project.org/doc/manuals/R-intro.pdf) — W. N. Venables, D. M. Smith, R Core Team.\n",
    "\n",
    "Más de programación, tiene modelos lineales.\n",
    "\n",
    "\n",
    "- [R for Data Science](http://r4ds.had.co.nz) — Garrett Grolemund, Hadley Wickham.\n",
    "\n",
    "Lo recomiendan en RStudio.\n",
    "\n",
    "\n",
    "- [Introduction to Probability and Statistics Using R](https://cran.r-project.org/web/packages/IPSUR/vignettes/IPSUR.pdf) — G. Jay Kerns.\n",
    "\n",
    "Mmm.\n",
    "\n",
    "\n",
    "- [Advanced R](http://adv-r.had.co.nz) — Hadley Wickham.\n",
    "\n",
    "Me sirvió la parte de estructuras de datos.\n",
    "\n",
    "\n",
    "- [Vectores atómicos](http://arrgh.tim-smith.us/atomic.html)\n",
    "\n",
    "Lectura obligada.\n",
    "\n",
    "\n",
    "- [An Introduction to Statistical Learning with Applications in R](http://www-bcf.usc.edu/~gareth/ISL) — Gareth James, Daniela Witten, Trevor Hastie and Robert Tibshirani.\n",
    "\n",
    "Es el que usé para aprendizaje automático. Está el **Elements of Statistical Learning** que es más avanzado.\n",
    "\n",
    "\n",
    "- [Advanced Data Analysis from an Elementary Point of View](http://www.stat.cmu.edu/~cshalizi/ADAfaEPoV) — Cosma Rohilla Shalizi.\n",
    "\n",
    "Cubre muchos tópicos avanzados, siendo exigente, desde un punto de vista elemental.\n",
    "\n",
    "\n",
    "- Más textos:\n",
    "  * https://r-dir.com/learn/e-books.html\n",
    "  * https://www.ossblog.org/grasp-r-programming-open-source-books\n",
    "  * http://freecomputerbooks.com/langRBooks.html"
   ]
  }
 ],
 "metadata": {
  "kernelspec": {
   "display_name": "R",
   "language": "R",
   "name": "ir"
  },
  "language_info": {
   "codemirror_mode": "r",
   "file_extension": ".r",
   "mimetype": "text/x-r-source",
   "name": "R",
   "pygments_lexer": "r",
   "version": "3.4.3"
  }
 },
 "nbformat": 4,
 "nbformat_minor": 2
}
