{
 "cells": [
  {
   "cell_type": "code",
   "execution_count": 4,
   "metadata": {},
   "outputs": [],
   "source": [
    "import matplotlib.pyplot as plt\n",
    "import pandas as pd\n",
    "import seaborn as sn\n",
    "import numpy as np"
   ]
  },
  {
   "cell_type": "markdown",
   "metadata": {},
   "source": [
    "### Resumen\n",
    "\n",
    "* Matplotlib Bajo nivel, solo para editar figuras hechas con Pandas\n",
    "* Pandas Método preferido\n",
    "* Seaborn Cuando Pandas se queda corto (variables categóricas)"
   ]
  },
  {
   "cell_type": "markdown",
   "metadata": {},
   "source": [
    "### ¿Qué se puede hacer en Pandas?\n",
    "\n",
    "https://pandas.pydata.org/pandas-docs/stable/visualization.html\n",
    "\n",
    "Plotting methods allow for a handful of plot styles other than the default Line plot. These methods can be provided as the kind keyword argument to plot(). These include:\n",
    "\n",
    "    ‘bar’ or ‘barh’ for bar plots\n",
    "    ‘hist’ for histogram\n",
    "    ‘box’ for boxplot\n",
    "    ‘kde’ or 'density' for density plots\n",
    "    ‘area’ for area plots\n",
    "    ‘scatter’ for scatter plots\n",
    "    ‘hexbin’ for hexagonal bin plots\n",
    "    ‘pie’ for pie plots\n",
    "\n",
    "\n",
    "https://pandas.pydata.org/pandas-docs/stable/_images/frame_plot_basic.png\n",
    "https://pandas.pydata.org/pandas-docs/stable/_images/bar_plot_multi_ex.png\n",
    "https://pandas.pydata.org/pandas-docs/stable/_images/hist_new.png\n",
    "https://pandas.pydata.org/pandas-docs/stable/_images/box_plot_new.png\n",
    "https://pandas.pydata.org/pandas-docs/stable/_images/area_plot_stacked.png\n",
    "https://pandas.pydata.org/pandas-docs/stable/_images/scatter_plot_colored.png\n",
    "https://pandas.pydata.org/pandas-docs/stable/_images/hexbin_plot.png\n",
    "https://pandas.pydata.org/pandas-docs/stable/_images/series_pie_plot.png"
   ]
  },
  {
   "cell_type": "markdown",
   "metadata": {},
   "source": [
    "### Usando Matplotlib\n",
    "\n",
    "* https://matplotlib.org/tutorials/introductory/usage.html\n",
    "* https://matplotlib.org/tutorials/introductory/lifecycle.html"
   ]
  },
  {
   "cell_type": "markdown",
   "metadata": {},
   "source": [
    "### Seaborn\n",
    "\n",
    "* https://dsaber.com/2016/10/02/a-dramatic-tour-through-pythons-data-visualization-landscape-including-ggplot-and-altair/"
   ]
  }
 ],
 "metadata": {
  "kernelspec": {
   "display_name": "Python 3",
   "language": "python",
   "name": "python3"
  },
  "language_info": {
   "codemirror_mode": {
    "name": "ipython",
    "version": 3
   },
   "file_extension": ".py",
   "mimetype": "text/x-python",
   "name": "python",
   "nbconvert_exporter": "python",
   "pygments_lexer": "ipython3",
   "version": "3.6.2"
  }
 },
 "nbformat": 4,
 "nbformat_minor": 2
}
