{
 "cells": [
  {
   "cell_type": "markdown",
   "metadata": {},
   "source": [
    "# Curso de Python"
   ]
  },
  {
   "cell_type": "markdown",
   "metadata": {},
   "source": [
    "## Clase 1: introducción"
   ]
  },
  {
   "cell_type": "markdown",
   "metadata": {},
   "source": [
    "### ¿Qué es un programa?\n",
    "\n",
    "A program is a sequence of instructions that specifies how to perform a computation. The computation might be something mathematical, such as solving a system of equations or finding the roots of a polynomial, but it can also be a symbolic computation, such as searching and replacing text in a document or something graphical, like processing an image or playing a video.\n",
    "\n",
    "---\n",
    "\n",
    "A computer program is a collection of instructions that performs a specific task when executed by a computer. A computer requires programs to function.\n",
    "\n",
    "A computer program is usually written by a computer programmer in a programming language. From the program in its human-readable form of source code, a compiler can derive machine code—a form consisting of instructions that the computer can directly execute. Alternatively, a computer program may be executed with the aid of an interpreter.\n",
    "\n",
    "A part of a computer program that performs a well-defined task is known as an algorithm. A collection of computer programs, libraries, and related data are referred to as software. Computer programs may be categorized along functional lines, such as application software and system software."
   ]
  },
  {
   "cell_type": "markdown",
   "metadata": {},
   "source": [
    "### ¿Qué es un lenguaje de programación?\n",
    "\n",
    "A programming language is a formal language that specifies a set of instructions that can be used to produce various kinds of output. Programming languages generally consist of instructions for a computer. Programming languages can be used to create programs that implement specific algorithms."
   ]
  },
  {
   "cell_type": "markdown",
   "metadata": {},
   "source": [
    "### ¿Qué es Python?\n",
    "\n",
    "Python features a dynamic type system and automatic memory management. It supports multiple programming paradigms, including object-oriented, imperative, functional and procedural, and has a large and comprehensive standard library.\n",
    "\n",
    "---\n",
    "\n",
    "Python is an interpreted, interactive, object-oriented programming language. It incorporates modules, exceptions, dynamic typing, very high level dynamic data types, and classes. Python combines remarkable power with very clear syntax. It has interfaces to many system calls and libraries, as well as to various window systems, and is extensible in C or C++. It is also usable as an extension language for applications that need a programmable interface. Finally, Python is portable: it runs on many Unix variants, on the Mac, and on Windows 2000 and later."
   ]
  },
  {
   "cell_type": "markdown",
   "metadata": {},
   "source": [
    "### Instalación\n",
    "\n",
    "* [Anaconda](https://www.anaconda.com/download)\n",
    "  * [Windows](https://repo.continuum.io/archive/Anaconda3-5.0.1-Windows-x86_64.exe)"
   ]
  },
  {
   "cell_type": "markdown",
   "metadata": {},
   "source": [
    "### Ejecución\n",
    "\n",
    "*Script*\n",
    "\n",
    "    > python archivo.py\n",
    "\n",
    "[*Interactive shell*](https://www.python.org/shell)\n",
    "\n",
    "    > python\n",
    "\n",
    "[*Notebooks*](https://try.jupyter.org)\n",
    "\n",
    "    > jupyter notebook"
   ]
  },
  {
   "cell_type": "markdown",
   "metadata": {},
   "source": [
    "### Primer programa"
   ]
  },
  {
   "cell_type": "code",
   "execution_count": null,
   "metadata": {
    "collapsed": true
   },
   "outputs": [],
   "source": [
    "print('¡Hola, mundo!')"
   ]
  },
  {
   "cell_type": "markdown",
   "metadata": {},
   "source": [
    "### Valores y tipos\n",
    "\n",
    "        1    entero      integer           int\n",
    "      1.0    real        floating-point    float\n",
    "    'hola'   texto       string            str"
   ]
  },
  {
   "cell_type": "markdown",
   "metadata": {},
   "source": [
    "#### Constantes\n",
    "\n",
    "```\n",
    "False    The false value of the bool type.\n",
    "\n",
    "True     The true value of the bool type.\n",
    "\n",
    "None     The sole value of the type NoneType. None is frequently\n",
    "         used to represent the absence of a value,\n",
    "         as when default arguments are not passed to a function.\n",
    "```"
   ]
  },
  {
   "cell_type": "markdown",
   "metadata": {},
   "source": [
    "### Operadores\n",
    "\n",
    "Operators are special symbols in Python that carry out arithmetic or logical computation. The value that the operator operates on is called the operand."
   ]
  },
  {
   "cell_type": "markdown",
   "metadata": {},
   "source": [
    "#### Aritméticos\n",
    "\n",
    "    +   suma\n",
    "    -   resta\n",
    "    *   multiplicación\n",
    "    /   división\n",
    "    //  división entera\n",
    "    %   módulo (resto de la división)\n",
    "    **  exponenciación"
   ]
  },
  {
   "cell_type": "code",
   "execution_count": 2,
   "metadata": {
    "collapsed": false
   },
   "outputs": [
    {
     "data": {
      "text/plain": [
       "4"
      ]
     },
     "execution_count": 2,
     "metadata": {},
     "output_type": "execute_result"
    }
   ],
   "source": [
    "2 + 2"
   ]
  },
  {
   "cell_type": "markdown",
   "metadata": {},
   "source": [
    "#### Comparativos\n",
    "\n",
    "    >   mayor\n",
    "    <   menor\n",
    "    ==  igual\n",
    "    !=  desigual\n",
    "    >=  mayor o igual\n",
    "    <=  menor o igual"
   ]
  },
  {
   "cell_type": "code",
   "execution_count": 4,
   "metadata": {
    "collapsed": false
   },
   "outputs": [
    {
     "data": {
      "text/plain": [
       "True"
      ]
     },
     "execution_count": 4,
     "metadata": {},
     "output_type": "execute_result"
    }
   ],
   "source": [
    "2 > 1"
   ]
  },
  {
   "cell_type": "markdown",
   "metadata": {},
   "source": [
    "#### Lógicos\n",
    "\n",
    "    and\n",
    "    or\n",
    "    not"
   ]
  },
  {
   "cell_type": "code",
   "execution_count": 18,
   "metadata": {
    "collapsed": false
   },
   "outputs": [
    {
     "data": {
      "text/plain": [
       "False"
      ]
     },
     "execution_count": 18,
     "metadata": {},
     "output_type": "execute_result"
    }
   ],
   "source": [
    "True and False"
   ]
  },
  {
   "cell_type": "markdown",
   "metadata": {},
   "source": [
    "#### Especiales\n",
    "\n",
    "    is   identidad, además de mismo valor, misma referencia"
   ]
  },
  {
   "cell_type": "code",
   "execution_count": 7,
   "metadata": {
    "collapsed": false
   },
   "outputs": [
    {
     "data": {
      "text/plain": [
       "False"
      ]
     },
     "execution_count": 7,
     "metadata": {},
     "output_type": "execute_result"
    }
   ],
   "source": [
    "1 is 1.0"
   ]
  },
  {
   "cell_type": "markdown",
   "metadata": {},
   "source": [
    "### Variables\n",
    "\n",
    "One of the most powerful features of a programming language is the ability to manipulate variables. A variable is a name that refers to a value."
   ]
  },
  {
   "cell_type": "markdown",
   "metadata": {},
   "source": [
    "#### Operador asignación\n",
    "\n",
    "An assignment statement creates a new variable and gives it a value."
   ]
  },
  {
   "cell_type": "code",
   "execution_count": 39,
   "metadata": {
    "collapsed": false
   },
   "outputs": [
    {
     "data": {
      "text/plain": [
       "1"
      ]
     },
     "execution_count": 39,
     "metadata": {},
     "output_type": "execute_result"
    }
   ],
   "source": [
    "x = 1\n",
    "\n",
    "x"
   ]
  },
  {
   "cell_type": "markdown",
   "metadata": {},
   "source": [
    "#### Identificadores\n",
    "\n",
    "Identifier is the name given to entities like class, functions, variables...\n",
    "\n",
    "\n",
    "1. Identifiers can be a combination of letters in lowercase (a to z) or uppercase (A to Z) or digits (0 to 9) or an underscore (_). Names like `myClass`, `var_1` and `print_this_to_screen`, all are valid examples.\n",
    "\n",
    "2. An identifier cannot start with a digit. `1variable` is invalid, but `variable1` is perfectly fine.\n",
    "\n",
    "3. Keywords cannot be used as identifiers.\n",
    "\n",
    "4. We cannot use special symbols like !, @, #, $, % etc. in our identifiers.\n",
    "\n",
    "5. Identifiers can be of any length."
   ]
  },
  {
   "cell_type": "markdown",
   "metadata": {},
   "source": [
    "#### Palabras reservadas (*keywords*)\n",
    "\n",
    "The interpreter uses keywords to recognize the structure of the program, and they cannot be used as variable names.\n",
    "\n",
    "Python 3 has these keywords:\n",
    "```\n",
    "False      class      finally    is         return\n",
    "None       continue   for        lambda     try\n",
    "True       def        from       nonlocal   while\n",
    "and        del        global     not        with\n",
    "as         elif       if         or         yield\n",
    "assert     else       import     pass\n",
    "break      except     in         raise\n",
    "```\n"
   ]
  },
  {
   "cell_type": "markdown",
   "metadata": {},
   "source": [
    "### Expresiones y declaraciones (*statements*)\n",
    "\n",
    "An **expression** is a combination of values, variables, and operators. A value all by itself is considered an expression, and so is a variable.\n",
    "\n",
    "A **statement** is a unit of code that has an effect, like creating a variable or displaying a value.\n",
    "\n",
    "#### Comentarios"
   ]
  },
  {
   "cell_type": "code",
   "execution_count": null,
   "metadata": {
    "collapsed": true
   },
   "outputs": [],
   "source": [
    "# Este es un comentario de una línea\n",
    "\n",
    "\"\"\"\n",
    "Este es un comentario\n",
    "multilínea.\n",
    "\"\"\""
   ]
  },
  {
   "cell_type": "markdown",
   "metadata": {},
   "source": [
    "#### Indentación\n",
    "\n",
    "Most of the programming languages like C, C++, Java use braces { } to define a block of code. Python uses indentation."
   ]
  },
  {
   "cell_type": "markdown",
   "metadata": {},
   "source": [
    "### Control de flujo\n",
    "\n",
    "Decision making is required when we want to execute a code only if a certain condition is satisfied."
   ]
  },
  {
   "cell_type": "code",
   "execution_count": 40,
   "metadata": {
    "collapsed": false
   },
   "outputs": [
    {
     "name": "stdout",
     "output_type": "stream",
     "text": [
      "x es menor a 10\n"
     ]
    }
   ],
   "source": [
    "x = 1\n",
    "\n",
    "if x < 10:\n",
    "    print('x es menor a 10')"
   ]
  },
  {
   "cell_type": "code",
   "execution_count": 41,
   "metadata": {
    "collapsed": false
   },
   "outputs": [
    {
     "name": "stdout",
     "output_type": "stream",
     "text": [
      "x no es menor que 10\n"
     ]
    }
   ],
   "source": [
    "x = 100\n",
    "\n",
    "if x < 10:\n",
    "    print('x es menor que 10')\n",
    "else:\n",
    "    print('x no es menor que 10')"
   ]
  },
  {
   "cell_type": "code",
   "execution_count": 42,
   "metadata": {
    "collapsed": false
   },
   "outputs": [
    {
     "name": "stdout",
     "output_type": "stream",
     "text": [
      "x es cero\n"
     ]
    }
   ],
   "source": [
    "x = 0\n",
    "\n",
    "if x < 0:\n",
    "    print('x es negativo')\n",
    "elif x == 0:\n",
    "    print('x es cero')\n",
    "else:\n",
    "    print('x es positivo')"
   ]
  },
  {
   "cell_type": "markdown",
   "metadata": {},
   "source": [
    "### Funciones\n",
    "\n",
    "In the context of programming, a function is a named sequence of statements that performs a computation. When you define a function, you specify the name and the sequence of statements. Later, you can “call” the function by name."
   ]
  },
  {
   "cell_type": "markdown",
   "metadata": {},
   "source": [
    "#### Algunas funciones disponibles\n",
    " \n",
    "    input()   print()   type()     help()\n",
    "    bool()    int()     float()    str()\n",
    "    len()     range()"
   ]
  },
  {
   "cell_type": "markdown",
   "metadata": {},
   "source": [
    "#### Llamado de función\n",
    "\n",
    "It is common to say that a function “takes” an argument and “returns” a result."
   ]
  },
  {
   "cell_type": "code",
   "execution_count": 17,
   "metadata": {
    "collapsed": false
   },
   "outputs": [
    {
     "data": {
      "text/plain": [
       "builtin_function_or_method"
      ]
     },
     "execution_count": 17,
     "metadata": {},
     "output_type": "execute_result"
    }
   ],
   "source": [
    "type(print)"
   ]
  },
  {
   "cell_type": "code",
   "execution_count": 7,
   "metadata": {
    "collapsed": false
   },
   "outputs": [
    {
     "data": {
      "text/plain": [
       "int"
      ]
     },
     "execution_count": 7,
     "metadata": {},
     "output_type": "execute_result"
    }
   ],
   "source": [
    "type(10)"
   ]
  },
  {
   "cell_type": "code",
   "execution_count": 9,
   "metadata": {
    "collapsed": false
   },
   "outputs": [
    {
     "name": "stdout",
     "output_type": "stream",
     "text": [
      "uno dos\n"
     ]
    }
   ],
   "source": [
    "print('uno', 'dos')"
   ]
  },
  {
   "cell_type": "markdown",
   "metadata": {},
   "source": [
    "#### Módulos"
   ]
  },
  {
   "cell_type": "code",
   "execution_count": 10,
   "metadata": {
    "collapsed": false
   },
   "outputs": [
    {
     "data": {
      "text/plain": [
       "2.0"
      ]
     },
     "execution_count": 10,
     "metadata": {},
     "output_type": "execute_result"
    }
   ],
   "source": [
    "import math\n",
    "\n",
    "math.sqrt(4)"
   ]
  },
  {
   "cell_type": "code",
   "execution_count": 20,
   "metadata": {
    "collapsed": false
   },
   "outputs": [
    {
     "data": {
      "text/plain": [
       "4"
      ]
     },
     "execution_count": 20,
     "metadata": {},
     "output_type": "execute_result"
    }
   ],
   "source": [
    "import operator\n",
    "\n",
    "operator.add(2, 2)"
   ]
  },
  {
   "cell_type": "markdown",
   "metadata": {},
   "source": [
    "#### Definifición de funciones"
   ]
  },
  {
   "cell_type": "code",
   "execution_count": 31,
   "metadata": {
    "collapsed": true
   },
   "outputs": [],
   "source": [
    "def suma(x, y):\n",
    "    print('x es', x)\n",
    "    print('y es', y)\n",
    "    \n",
    "    return x + y"
   ]
  },
  {
   "cell_type": "markdown",
   "metadata": {},
   "source": [
    "Al llamar la función, el orden de los argumentos importa."
   ]
  },
  {
   "cell_type": "code",
   "execution_count": 32,
   "metadata": {
    "collapsed": false
   },
   "outputs": [
    {
     "name": "stdout",
     "output_type": "stream",
     "text": [
      "x es 5\n",
      "y es 6\n"
     ]
    },
    {
     "data": {
      "text/plain": [
       "11"
      ]
     },
     "execution_count": 32,
     "metadata": {},
     "output_type": "execute_result"
    }
   ],
   "source": [
    "suma(5, 6)"
   ]
  },
  {
   "cell_type": "markdown",
   "metadata": {},
   "source": [
    "Salvo que llamemos a los argumentos por su nombre."
   ]
  },
  {
   "cell_type": "code",
   "execution_count": 33,
   "metadata": {
    "collapsed": false
   },
   "outputs": [
    {
     "name": "stdout",
     "output_type": "stream",
     "text": [
      "x es 5\n",
      "y es 6\n"
     ]
    },
    {
     "data": {
      "text/plain": [
       "11"
      ]
     },
     "execution_count": 33,
     "metadata": {},
     "output_type": "execute_result"
    }
   ],
   "source": [
    "suma(y=6, x=5)"
   ]
  },
  {
   "cell_type": "markdown",
   "metadata": {},
   "source": [
    "1. Creating a new function gives you an opportunity to name a group of statements, which makes your program easier to read and debug.\n",
    "\n",
    "2. Functions can make a program smaller by eliminating repetitive code. Later, if you make a change, you only have to make it in one place.\n",
    "\n",
    "3. Dividing a long program into functions allows you to debug the parts one at a time and then assemble them into a working whole.\n",
    "\n",
    "4. Well-designed functions are often useful for many programs. Once you write and debug one, you can reuse it."
   ]
  },
  {
   "cell_type": "markdown",
   "metadata": {},
   "source": [
    "#### Visibilidad (*scope*)\n",
    "\n",
    "https://docs.python.org/3/reference/executionmodel.html"
   ]
  },
  {
   "cell_type": "code",
   "execution_count": 36,
   "metadata": {
    "collapsed": false
   },
   "outputs": [
    {
     "name": "stdout",
     "output_type": "stream",
     "text": [
      "1\n",
      "5\n"
     ]
    }
   ],
   "source": [
    "x = 5\n",
    "\n",
    "def x_local():\n",
    "    x = 1\n",
    "    print(x)\n",
    "\n",
    "x_local()\n",
    "print(x)"
   ]
  },
  {
   "cell_type": "code",
   "execution_count": 37,
   "metadata": {
    "collapsed": false
   },
   "outputs": [
    {
     "name": "stdout",
     "output_type": "stream",
     "text": [
      "1\n",
      "1\n"
     ]
    }
   ],
   "source": [
    "def x_global():\n",
    "    global x\n",
    "    x = 1\n",
    "    print(x)\n",
    "\n",
    "x_global()\n",
    "print(x)"
   ]
  },
  {
   "cell_type": "markdown",
   "metadata": {},
   "source": [
    "---\n",
    "\n",
    "## Clase 2\n",
    "\n",
    "* Secuencias / colecciones\n",
    "    * Listas\n",
    "    * Tuplas\n",
    "    * Strings\n",
    "    * Iterables — `range()`\n",
    "* `for`, `while`, `break`, `continue`, `pass`, `in`\n",
    "* Diccionarios\n",
    "* *Comprehensions*\n",
    "* Clases\n",
    "  * Métodos\n",
    "  * Atributos\n",
    "  \n",
    "Temas excluidos:\n",
    "\n",
    "* Recursividad\n",
    "* Definición de clases\n",
    "* Manejo de archivos\n",
    "* Manejo de excepciones\n",
    "* Funciones anónimas (lambdas)"
   ]
  },
  {
   "cell_type": "markdown",
   "metadata": {},
   "source": [
    "### Cursos\n",
    "\n",
    "* [DataCamp](https://www.datacamp.com/courses/intro-to-python-for-data-science)\n",
    "  * Hola mundo\n",
    "  * Tipos y variables\n",
    "  * Listas\n",
    "  * Sublistas\n",
    "  * Manipulación de listas\n",
    "  * Funciones\n",
    "  * Métodos\n",
    "  * Paquetes\n",
    "  * Numpy...\n",
    "\n",
    "* [CodeCademy](https://www.codecademy.com/learn/learn-python)\n",
    "  * Sintaxis \n",
    "  * Strings\n",
    "  * Condicionales y control de flujo\n",
    "  * Listas y diccionarios\n",
    "  * Listas y funciones\n",
    "  * Clases\n",
    "  * Archivos\n",
    "  \n",
    "### Libros\n",
    "\n",
    "* [Think Python](http://greenteapress.com/wp/think-python-2e) — Las primeras clases están basadas en este libro.\n",
    "  * The way of the program\n",
    "  * Variables, expressions and statements\n",
    "  * Functions\n",
    "  * Conditionals and recursion\n",
    "  * Iteration\n",
    "  * Strings\n",
    "  * Lists\n",
    "  * Dictionaries\n",
    "  * Tuples\n",
    "  * Files\n",
    "  * Classes and objects\n",
    "  * Classes and functions\n",
    "  * Classes and methods\n",
    "\n",
    "* [Dive into Python](http://www.diveintopython3.net)\n",
    "\n",
    "### Extra\n",
    "  * [Documentación oficial](https://docs.python.org/3)\n",
    "  * [Comparación entre R y Python](http://mathesaurus.sourceforge.net/r-numpy.html)\n",
    "  * [Resumen de la sintaxis](https://learnxinyminutes.com/docs/python3)\n",
    "  * [Tutorial a los bifes](https://www.programiz.com/python-programming)"
   ]
  }
 ],
 "metadata": {
  "kernelspec": {
   "display_name": "Python 3",
   "language": "python",
   "name": "python3"
  },
  "language_info": {
   "codemirror_mode": {
    "name": "ipython",
    "version": 3
   },
   "file_extension": ".py",
   "mimetype": "text/x-python",
   "name": "python",
   "nbconvert_exporter": "python",
   "pygments_lexer": "ipython3",
   "version": "3.5.2"
  }
 },
 "nbformat": 4,
 "nbformat_minor": 2
}
